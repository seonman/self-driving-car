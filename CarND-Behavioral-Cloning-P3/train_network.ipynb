{
 "cells": [
  {
   "cell_type": "code",
   "execution_count": 9,
   "metadata": {
    "collapsed": true
   },
   "outputs": [],
   "source": [
    "import csv\n",
    "import cv2\n",
    "import numpy as np\n",
    "\n",
    "lines = []\n",
    "with open('data/driving_log.csv') as csvfile:\n",
    "    reader = csv.reader(csvfile)\n",
    "    for line in reader:\n",
    "        lines.append(line)"
   ]
  },
  {
   "cell_type": "code",
   "execution_count": 33,
   "metadata": {},
   "outputs": [],
   "source": [
    "images = []\n",
    "measurements = []\n",
    "\n",
    "# Correction factor\n",
    "correction = 0.2\n",
    "\n",
    "for line in lines:\n",
    "    steering_center = float(line[3])\n",
    "\n",
    "    for i in range(3):\n",
    "        source_path = line[i]\n",
    "        filename = source_path.split('/')[-1]\n",
    "        current_path = 'data/IMG/' + filename\n",
    "#     print(current_path)\n",
    "        image = cv2.imread(current_path)\n",
    "        images.append(image)\n",
    "#     print(measurement)\n",
    "        if i == 0:\n",
    "            measurements.append(steering_center)\n",
    "        elif i == 1:\n",
    "            measurements.append(steering_center + correction)  # streering_left\n",
    "        elif i == 2:\n",
    "            measurements.append(steering_center - correction) # steering_right\n",
    "    "
   ]
  },
  {
   "cell_type": "code",
   "execution_count": 34,
   "metadata": {
    "collapsed": true
   },
   "outputs": [],
   "source": [
    "# Data Augmentation\n",
    "augmented_images, augmented_measurements = [], []\n",
    "for image, measurement in zip(images, measurements):\n",
    "    augmented_images.append(image)\n",
    "    augmented_measurements.append(measurement)\n",
    "    # Flip the images\n",
    "    augmented_images.append(cv2.flip(image, 1))\n",
    "    # change the direction of the measurement\n",
    "    augmented_measurements.append(measurement*-1.0)"
   ]
  },
  {
   "cell_type": "code",
   "execution_count": 35,
   "metadata": {},
   "outputs": [],
   "source": [
    "\n",
    "\n",
    "X_train = np.array(augmented_images)\n",
    "y_train = np.array(augmented_measurements)\n"
   ]
  },
  {
   "cell_type": "code",
   "execution_count": 36,
   "metadata": {},
   "outputs": [
    {
     "data": {
      "text/plain": [
       "(14016, 160, 320, 3)"
      ]
     },
     "execution_count": 36,
     "metadata": {},
     "output_type": "execute_result"
    }
   ],
   "source": [
    "X_train.shape"
   ]
  },
  {
   "cell_type": "code",
   "execution_count": 37,
   "metadata": {},
   "outputs": [
    {
     "data": {
      "text/plain": [
       "(14016,)"
      ]
     },
     "execution_count": 37,
     "metadata": {},
     "output_type": "execute_result"
    }
   ],
   "source": [
    "y_train.shape"
   ]
  },
  {
   "cell_type": "code",
   "execution_count": 38,
   "metadata": {
    "collapsed": true
   },
   "outputs": [],
   "source": [
    "from keras.models import Sequential\n",
    "from keras.layers import Flatten, Dense, Lambda\n",
    "from keras.layers import Conv2D, MaxPool2D"
   ]
  },
  {
   "cell_type": "code",
   "execution_count": 39,
   "metadata": {},
   "outputs": [
    {
     "name": "stdout",
     "output_type": "stream",
     "text": [
      "Train on 11212 samples, validate on 2804 samples\n",
      "Epoch 1/7\n",
      "11212/11212 [==============================] - 347s - loss: 0.8215 - val_loss: 0.0472\n",
      "Epoch 2/7\n",
      "11212/11212 [==============================] - 336s - loss: 0.0154 - val_loss: 0.0353\n",
      "Epoch 3/7\n",
      "11212/11212 [==============================] - 350s - loss: 0.0114 - val_loss: 0.0307\n",
      "Epoch 4/7\n",
      "11212/11212 [==============================] - 369s - loss: 0.0088 - val_loss: 0.0306\n",
      "Epoch 5/7\n",
      "11212/11212 [==============================] - 337s - loss: 0.0069 - val_loss: 0.0330\n",
      "Epoch 6/7\n",
      "11212/11212 [==============================] - 343s - loss: 0.0058 - val_loss: 0.0344\n",
      "Epoch 7/7\n",
      "11212/11212 [==============================] - 362s - loss: 0.0050 - val_loss: 0.0357\n"
     ]
    }
   ],
   "source": [
    "model = Sequential()\n",
    "# normalize the input data\n",
    "model.add(Lambda(lambda x: x / 255.0 - 0.5, input_shape=(160, 320, 3)))\n",
    "model.add(Conv2D(6, (5, 5), activation='relu'))\n",
    "model.add(MaxPool2D())\n",
    "model.add(Conv2D(6, (5, 5), activation='relu'))\n",
    "model.add(MaxPool2D())\n",
    "model.add(Flatten())\n",
    "model.add(Dense(120))\n",
    "model.add(Dense(84))\n",
    "model.add(Dense(1))\n",
    "\n",
    "model.compile(loss='mse', optimizer='adam')\n",
    "model.fit(X_train, y_train, validation_split=0.2, shuffle=True, epochs=7)\n",
    "\n",
    "model.save('model.h5')"
   ]
  },
  {
   "cell_type": "code",
   "execution_count": null,
   "metadata": {
    "collapsed": true
   },
   "outputs": [],
   "source": []
  }
 ],
 "metadata": {
  "kernelspec": {
   "display_name": "Python 3",
   "language": "python",
   "name": "python3"
  },
  "language_info": {
   "codemirror_mode": {
    "name": "ipython",
    "version": 3
   },
   "file_extension": ".py",
   "mimetype": "text/x-python",
   "name": "python",
   "nbconvert_exporter": "python",
   "pygments_lexer": "ipython3",
   "version": "3.5.3"
  }
 },
 "nbformat": 4,
 "nbformat_minor": 2
}
